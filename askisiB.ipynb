myEuclid<-function(points, centro) {
    distanceMatrix <- matrix(NA, nrow=dim(points)[1])
    for(i in 1:nrow(points)) {
        distanceMatrix[i]<-0
            for (j in 1:ncol(centro)) {
            
                distanceMatrix[i] <- distanceMatrix[i] + (points[i,j]-centro[points[i,ncol(points)],j])^2
            }
        distanceMatrix[i] <- sqrt(distanceMatrix[i])
    }
    return(distanceMatrix)
}

data(iris)

set.seed(123)
iris1=subset(iris, select=-Species)
clusters<-kmeans(iris1,3)
clusters[["centers"]]
clusters[["cluster"]]

iris_clustered<-cbind(iris1,"Cluster"=clusters[["cluster"]])
iris_clustered

distances<-myEuclid(iris_clustered, clusters[["centers"]])
iris_cl_d<-cbind(iris_clustered,distances)

iris_cl_d
